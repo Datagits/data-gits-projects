{
 "cells": [
  {
   "cell_type": "markdown",
   "id": "394de915",
   "metadata": {},
   "source": [
    "# <div align=\"center\">  Titanic Machine Learning Project Overview  </div>\n",
    "\n",
    "# Background\n",
    "\n",
    "### Titanic Disaster\n",
    "\n",
    "### Kaggle\n",
    "\n",
    "### Notebooks Referenced\n",
    "\n",
    "#### - This note book is based on Jason Chong's Titanic: Machine Learning from Disaster tutoial notebook. An article explaining the notebook and the proccesses he used can be found [here] (https://towardsdatascience.com/comprehensive-beginners-guide-to-kaggle-titanic-survival-prediction-competition-solution-21c5be2cec2c). \n",
    " \n",
    "# Objective\n",
    "\n",
    "### Determine factors that influenced the probability that an individual survived or perished.\n",
    "\n",
    "### Build a model to predict who lived and who died based on the determined factors.\n",
    "\n",
    "# Project Workflow\n",
    "\n",
    "### Understand the data\n",
    "\n",
    "#### - Data types\n",
    "#### - Catagorical Vs Numerical \n",
    "#### - Missing values\n",
    "\n",
    "### Exploratory Data Analysis\n",
    "\n",
    "#### - Explore hypothesis\n",
    "#### - Descriptive Statistics\n",
    "#### - Correlation\n",
    "\n",
    "### Data cleaning\n",
    "\n",
    "#### - Deal with missing values\n",
    "#### - Data transformation\n",
    "#### - Feature engineering\n",
    "#### - Label encoding\n",
    "\n",
    "### Train Model\n",
    "\n",
    "#### - Choose which models to train\n",
    "\n",
    "### Evaluate models\n",
    "\n",
    "#### - Cross validation\n",
    "#### - Tune Model\n",
    "\n",
    "### Show Final Results and Report Model Accuracy\n",
    "\n"
   ]
  },
  {
   "cell_type": "code",
   "execution_count": 224,
   "id": "445a7b61",
   "metadata": {},
   "outputs": [],
   "source": [
    "#Main packages \n",
    "import pandas as pd\n",
    "import numpy as np\n",
    "\n",
    "#Visualization packages\n",
    "import seaborn as sns\n",
    "import matplotlib.pyplot as plt\n",
    "\n",
    "#Dictionary Counter\n",
    "from collections import Counter\n",
    "\n",
    "#Machine learning packages\n",
    "from sklearn.neighbors import KNeighborsClassifier\n",
    "from sklearn.ensemble import RandomForestClassifier\n",
    "from sklearn.linear_model import LogisticRegression \n",
    "from sklearn.naive_bayes import GaussianNB\n",
    "\n",
    "#Model Testing and Tuning\n",
    "from sklearn.model_selection import cross_val_score\n",
    "from sklearn.model_selection import GridSearchCV\n",
    "\n",
    "#Remove warnings \n",
    "import warnings\n",
    "warnings.filterwarnings('ignore')\n",
    "\n",
    "#Stats\n",
    "from scipy import stats\n",
    "from statsmodels.stats.outliers_influence import variance_inflation_factor"
   ]
  },
  {
   "cell_type": "code",
   "execution_count": 225,
   "id": "528e09f1",
   "metadata": {},
   "outputs": [],
   "source": [
    "#Importing the data set\n",
    "train = pd.read_csv(\"train.csv\")\n",
    "test = pd.read_csv(\"test.csv\") "
   ]
  },
  {
   "cell_type": "code",
   "execution_count": 226,
   "id": "a9100a53",
   "metadata": {},
   "outputs": [
    {
     "data": {
      "text/html": [
       "<div>\n",
       "<style scoped>\n",
       "    .dataframe tbody tr th:only-of-type {\n",
       "        vertical-align: middle;\n",
       "    }\n",
       "\n",
       "    .dataframe tbody tr th {\n",
       "        vertical-align: top;\n",
       "    }\n",
       "\n",
       "    .dataframe thead th {\n",
       "        text-align: right;\n",
       "    }\n",
       "</style>\n",
       "<table border=\"1\" class=\"dataframe\">\n",
       "  <thead>\n",
       "    <tr style=\"text-align: right;\">\n",
       "      <th></th>\n",
       "      <th>PassengerId</th>\n",
       "      <th>Survived</th>\n",
       "      <th>Pclass</th>\n",
       "      <th>Name</th>\n",
       "      <th>Sex</th>\n",
       "      <th>Age</th>\n",
       "      <th>SibSp</th>\n",
       "      <th>Parch</th>\n",
       "      <th>Ticket</th>\n",
       "      <th>Fare</th>\n",
       "      <th>Cabin</th>\n",
       "      <th>Embarked</th>\n",
       "    </tr>\n",
       "  </thead>\n",
       "  <tbody>\n",
       "    <tr>\n",
       "      <th>0</th>\n",
       "      <td>1</td>\n",
       "      <td>0</td>\n",
       "      <td>3</td>\n",
       "      <td>Braund, Mr. Owen Harris</td>\n",
       "      <td>male</td>\n",
       "      <td>22.0</td>\n",
       "      <td>1</td>\n",
       "      <td>0</td>\n",
       "      <td>A/5 21171</td>\n",
       "      <td>7.2500</td>\n",
       "      <td>NaN</td>\n",
       "      <td>S</td>\n",
       "    </tr>\n",
       "    <tr>\n",
       "      <th>1</th>\n",
       "      <td>2</td>\n",
       "      <td>1</td>\n",
       "      <td>1</td>\n",
       "      <td>Cumings, Mrs. John Bradley (Florence Briggs Th...</td>\n",
       "      <td>female</td>\n",
       "      <td>38.0</td>\n",
       "      <td>1</td>\n",
       "      <td>0</td>\n",
       "      <td>PC 17599</td>\n",
       "      <td>71.2833</td>\n",
       "      <td>C85</td>\n",
       "      <td>C</td>\n",
       "    </tr>\n",
       "    <tr>\n",
       "      <th>2</th>\n",
       "      <td>3</td>\n",
       "      <td>1</td>\n",
       "      <td>3</td>\n",
       "      <td>Heikkinen, Miss. Laina</td>\n",
       "      <td>female</td>\n",
       "      <td>26.0</td>\n",
       "      <td>0</td>\n",
       "      <td>0</td>\n",
       "      <td>STON/O2. 3101282</td>\n",
       "      <td>7.9250</td>\n",
       "      <td>NaN</td>\n",
       "      <td>S</td>\n",
       "    </tr>\n",
       "    <tr>\n",
       "      <th>3</th>\n",
       "      <td>4</td>\n",
       "      <td>1</td>\n",
       "      <td>1</td>\n",
       "      <td>Futrelle, Mrs. Jacques Heath (Lily May Peel)</td>\n",
       "      <td>female</td>\n",
       "      <td>35.0</td>\n",
       "      <td>1</td>\n",
       "      <td>0</td>\n",
       "      <td>113803</td>\n",
       "      <td>53.1000</td>\n",
       "      <td>C123</td>\n",
       "      <td>S</td>\n",
       "    </tr>\n",
       "    <tr>\n",
       "      <th>4</th>\n",
       "      <td>5</td>\n",
       "      <td>0</td>\n",
       "      <td>3</td>\n",
       "      <td>Allen, Mr. William Henry</td>\n",
       "      <td>male</td>\n",
       "      <td>35.0</td>\n",
       "      <td>0</td>\n",
       "      <td>0</td>\n",
       "      <td>373450</td>\n",
       "      <td>8.0500</td>\n",
       "      <td>NaN</td>\n",
       "      <td>S</td>\n",
       "    </tr>\n",
       "  </tbody>\n",
       "</table>\n",
       "</div>"
      ],
      "text/plain": [
       "   PassengerId  Survived  Pclass  \\\n",
       "0            1         0       3   \n",
       "1            2         1       1   \n",
       "2            3         1       3   \n",
       "3            4         1       1   \n",
       "4            5         0       3   \n",
       "\n",
       "                                                Name     Sex   Age  SibSp  \\\n",
       "0                            Braund, Mr. Owen Harris    male  22.0      1   \n",
       "1  Cumings, Mrs. John Bradley (Florence Briggs Th...  female  38.0      1   \n",
       "2                             Heikkinen, Miss. Laina  female  26.0      0   \n",
       "3       Futrelle, Mrs. Jacques Heath (Lily May Peel)  female  35.0      1   \n",
       "4                           Allen, Mr. William Henry    male  35.0      0   \n",
       "\n",
       "   Parch            Ticket     Fare Cabin Embarked  \n",
       "0      0         A/5 21171   7.2500   NaN        S  \n",
       "1      0          PC 17599  71.2833   C85        C  \n",
       "2      0  STON/O2. 3101282   7.9250   NaN        S  \n",
       "3      0            113803  53.1000  C123        S  \n",
       "4      0            373450   8.0500   NaN        S  "
      ]
     },
     "execution_count": 226,
     "metadata": {},
     "output_type": "execute_result"
    }
   ],
   "source": [
    "#First five rows train\n",
    "train.head()"
   ]
  },
  {
   "cell_type": "code",
   "execution_count": 227,
   "id": "6b7f6976",
   "metadata": {},
   "outputs": [
    {
     "data": {
      "text/html": [
       "<div>\n",
       "<style scoped>\n",
       "    .dataframe tbody tr th:only-of-type {\n",
       "        vertical-align: middle;\n",
       "    }\n",
       "\n",
       "    .dataframe tbody tr th {\n",
       "        vertical-align: top;\n",
       "    }\n",
       "\n",
       "    .dataframe thead th {\n",
       "        text-align: right;\n",
       "    }\n",
       "</style>\n",
       "<table border=\"1\" class=\"dataframe\">\n",
       "  <thead>\n",
       "    <tr style=\"text-align: right;\">\n",
       "      <th></th>\n",
       "      <th>PassengerId</th>\n",
       "      <th>Pclass</th>\n",
       "      <th>Name</th>\n",
       "      <th>Sex</th>\n",
       "      <th>Age</th>\n",
       "      <th>SibSp</th>\n",
       "      <th>Parch</th>\n",
       "      <th>Ticket</th>\n",
       "      <th>Fare</th>\n",
       "      <th>Cabin</th>\n",
       "      <th>Embarked</th>\n",
       "    </tr>\n",
       "  </thead>\n",
       "  <tbody>\n",
       "    <tr>\n",
       "      <th>0</th>\n",
       "      <td>892</td>\n",
       "      <td>3</td>\n",
       "      <td>Kelly, Mr. James</td>\n",
       "      <td>male</td>\n",
       "      <td>34.5</td>\n",
       "      <td>0</td>\n",
       "      <td>0</td>\n",
       "      <td>330911</td>\n",
       "      <td>7.8292</td>\n",
       "      <td>NaN</td>\n",
       "      <td>Q</td>\n",
       "    </tr>\n",
       "    <tr>\n",
       "      <th>1</th>\n",
       "      <td>893</td>\n",
       "      <td>3</td>\n",
       "      <td>Wilkes, Mrs. James (Ellen Needs)</td>\n",
       "      <td>female</td>\n",
       "      <td>47.0</td>\n",
       "      <td>1</td>\n",
       "      <td>0</td>\n",
       "      <td>363272</td>\n",
       "      <td>7.0000</td>\n",
       "      <td>NaN</td>\n",
       "      <td>S</td>\n",
       "    </tr>\n",
       "    <tr>\n",
       "      <th>2</th>\n",
       "      <td>894</td>\n",
       "      <td>2</td>\n",
       "      <td>Myles, Mr. Thomas Francis</td>\n",
       "      <td>male</td>\n",
       "      <td>62.0</td>\n",
       "      <td>0</td>\n",
       "      <td>0</td>\n",
       "      <td>240276</td>\n",
       "      <td>9.6875</td>\n",
       "      <td>NaN</td>\n",
       "      <td>Q</td>\n",
       "    </tr>\n",
       "    <tr>\n",
       "      <th>3</th>\n",
       "      <td>895</td>\n",
       "      <td>3</td>\n",
       "      <td>Wirz, Mr. Albert</td>\n",
       "      <td>male</td>\n",
       "      <td>27.0</td>\n",
       "      <td>0</td>\n",
       "      <td>0</td>\n",
       "      <td>315154</td>\n",
       "      <td>8.6625</td>\n",
       "      <td>NaN</td>\n",
       "      <td>S</td>\n",
       "    </tr>\n",
       "    <tr>\n",
       "      <th>4</th>\n",
       "      <td>896</td>\n",
       "      <td>3</td>\n",
       "      <td>Hirvonen, Mrs. Alexander (Helga E Lindqvist)</td>\n",
       "      <td>female</td>\n",
       "      <td>22.0</td>\n",
       "      <td>1</td>\n",
       "      <td>1</td>\n",
       "      <td>3101298</td>\n",
       "      <td>12.2875</td>\n",
       "      <td>NaN</td>\n",
       "      <td>S</td>\n",
       "    </tr>\n",
       "  </tbody>\n",
       "</table>\n",
       "</div>"
      ],
      "text/plain": [
       "   PassengerId  Pclass                                          Name     Sex  \\\n",
       "0          892       3                              Kelly, Mr. James    male   \n",
       "1          893       3              Wilkes, Mrs. James (Ellen Needs)  female   \n",
       "2          894       2                     Myles, Mr. Thomas Francis    male   \n",
       "3          895       3                              Wirz, Mr. Albert    male   \n",
       "4          896       3  Hirvonen, Mrs. Alexander (Helga E Lindqvist)  female   \n",
       "\n",
       "    Age  SibSp  Parch   Ticket     Fare Cabin Embarked  \n",
       "0  34.5      0      0   330911   7.8292   NaN        Q  \n",
       "1  47.0      1      0   363272   7.0000   NaN        S  \n",
       "2  62.0      0      0   240276   9.6875   NaN        Q  \n",
       "3  27.0      0      0   315154   8.6625   NaN        S  \n",
       "4  22.0      1      1  3101298  12.2875   NaN        S  "
      ]
     },
     "execution_count": 227,
     "metadata": {},
     "output_type": "execute_result"
    }
   ],
   "source": [
    "#First five rows test\n",
    "test.head()"
   ]
  },
  {
   "cell_type": "markdown",
   "id": "995ca824",
   "metadata": {},
   "source": [
    "### Data Types \n",
    "\n",
    "#### Nominal\n",
    "    PassengerId\n",
    "    Name\n",
    "    Sex\n",
    "    Ticket\n",
    "    Cabin\n",
    "    Embarked\n",
    "    \n",
    "#### Ordinal \n",
    "    Pclass\n",
    "    \n",
    "#### Continous\n",
    "    Age\n",
    "    Fare\n",
    "#### Discrete\n",
    "    Sibsp\n",
    "    Parch\n",
    "    \n",
    "    "
   ]
  },
  {
   "cell_type": "code",
   "execution_count": 228,
   "id": "b96fd731",
   "metadata": {},
   "outputs": [
    {
     "data": {
      "text/plain": [
       "(891, 12)"
      ]
     },
     "execution_count": 228,
     "metadata": {},
     "output_type": "execute_result"
    }
   ],
   "source": [
    "#Training set is 891 rows x 12 columns\n",
    "train.shape\n"
   ]
  },
  {
   "cell_type": "code",
   "execution_count": 229,
   "id": "bde3d8a1",
   "metadata": {},
   "outputs": [
    {
     "data": {
      "text/plain": [
       "(418, 11)"
      ]
     },
     "execution_count": 229,
     "metadata": {},
     "output_type": "execute_result"
    }
   ],
   "source": [
    "#Test set is 418 rows x 11 columns\n",
    "#The missing column from this set is the Survived column.\n",
    "test.shape"
   ]
  },
  {
   "cell_type": "code",
   "execution_count": 230,
   "id": "876d5485",
   "metadata": {},
   "outputs": [
    {
     "name": "stdout",
     "output_type": "stream",
     "text": [
      "<class 'pandas.core.frame.DataFrame'>\n",
      "RangeIndex: 891 entries, 0 to 890\n",
      "Data columns (total 12 columns):\n",
      " #   Column       Non-Null Count  Dtype  \n",
      "---  ------       --------------  -----  \n",
      " 0   PassengerId  891 non-null    int64  \n",
      " 1   Survived     891 non-null    int64  \n",
      " 2   Pclass       891 non-null    int64  \n",
      " 3   Name         891 non-null    object \n",
      " 4   Sex          891 non-null    object \n",
      " 5   Age          714 non-null    float64\n",
      " 6   SibSp        891 non-null    int64  \n",
      " 7   Parch        891 non-null    int64  \n",
      " 8   Ticket       891 non-null    object \n",
      " 9   Fare         891 non-null    float64\n",
      " 10  Cabin        204 non-null    object \n",
      " 11  Embarked     889 non-null    object \n",
      "dtypes: float64(2), int64(5), object(5)\n",
      "memory usage: 83.7+ KB\n"
     ]
    }
   ],
   "source": [
    "train.info()"
   ]
  },
  {
   "cell_type": "code",
   "execution_count": 231,
   "id": "50069101",
   "metadata": {},
   "outputs": [
    {
     "name": "stdout",
     "output_type": "stream",
     "text": [
      "<class 'pandas.core.frame.DataFrame'>\n",
      "RangeIndex: 418 entries, 0 to 417\n",
      "Data columns (total 11 columns):\n",
      " #   Column       Non-Null Count  Dtype  \n",
      "---  ------       --------------  -----  \n",
      " 0   PassengerId  418 non-null    int64  \n",
      " 1   Pclass       418 non-null    int64  \n",
      " 2   Name         418 non-null    object \n",
      " 3   Sex          418 non-null    object \n",
      " 4   Age          332 non-null    float64\n",
      " 5   SibSp        418 non-null    int64  \n",
      " 6   Parch        418 non-null    int64  \n",
      " 7   Ticket       418 non-null    object \n",
      " 8   Fare         417 non-null    float64\n",
      " 9   Cabin        91 non-null     object \n",
      " 10  Embarked     418 non-null    object \n",
      "dtypes: float64(2), int64(4), object(5)\n",
      "memory usage: 36.0+ KB\n"
     ]
    }
   ],
   "source": [
    "test.info()"
   ]
  },
  {
   "cell_type": "code",
   "execution_count": 232,
   "id": "977c2b89",
   "metadata": {},
   "outputs": [
    {
     "name": "stdout",
     "output_type": "stream",
     "text": [
      "--------------------\n",
      "Training Nulls\n",
      "--------------------\n",
      "PassengerId      0\n",
      "Survived         0\n",
      "Pclass           0\n",
      "Name             0\n",
      "Sex              0\n",
      "SibSp            0\n",
      "Parch            0\n",
      "Ticket           0\n",
      "Fare             0\n",
      "Embarked         2\n",
      "Age            177\n",
      "Cabin          687\n",
      "dtype: int64\n",
      "--------------------\n",
      "Test Nulls\n",
      "--------------------\n",
      "PassengerId      0\n",
      "Pclass           0\n",
      "Name             0\n",
      "Sex              0\n",
      "SibSp            0\n",
      "Parch            0\n",
      "Ticket           0\n",
      "Embarked         0\n",
      "Fare             1\n",
      "Age             86\n",
      "Cabin          327\n",
      "dtype: int64\n",
      "--------------------\n"
     ]
    }
   ],
   "source": [
    "print('-'*20)\n",
    "print(\"Training Nulls\")\n",
    "print('-'*20)\n",
    "print(train.isnull().sum().sort_values())\n",
    "print('-'*20)\n",
    "print(\"Test Nulls\")\n",
    "print('-'*20)\n",
    "print(test.isnull().sum().sort_values())\n",
    "print(\"-\"*20)"
   ]
  },
  {
   "cell_type": "markdown",
   "id": "2c3bd2e6",
   "metadata": {},
   "source": [
    "\n",
    "There is a lot of missing data in the age and cabin columns. This data will have to either be imputed or the columns will need to be dropped.  "
   ]
  },
  {
   "cell_type": "markdown",
   "id": "5fa96817",
   "metadata": {},
   "source": [
    "## Data Dictionary\n",
    "This data dictionary was constructed from the one found on the [Kaggle Titanic Competition Page](https://www.kaggle.com/c/titanic/data?select=train.csv)\n",
    "\n",
    "  | Variable | Definition                     | Key                                       |\n",
    "|----------|--------------------------------|-------------------------------------------|\n",
    "| survival | Survival                       | 0=No, 1=Yes                               |\n",
    "| pclass   | Ticket Class                   | 1=1st, 2=2nd, 3=3rd                       |\n",
    "| sex      | Sex                            | Sex                                       |\n",
    "| Age      | Age(Years)                     |                                           |\n",
    "| sibsp    | # of siblings / spouses aboard |                                           |\n",
    "| parch    | # of parents / children aboard |                                           |\n",
    "| ticket   | Ticket number                  |                                           |\n",
    "| fare     | Passenger fare                 |                                           |\n",
    "| cabin    | Cabin number                   |                                           |\n",
    "| embarked | Port of Embarkation            | C=Cherbourg, Q=QueensTown, S=SouthHampton |"
   ]
  },
  {
   "cell_type": "markdown",
   "id": "fe575cc2",
   "metadata": {},
   "source": [
    "### Addressing missing values\n",
    "\n",
    "#### Cabin number\n",
    " There isn't enough data available regarding cabin number to fill in the missing values. This may have been useful for my model. It's hard to say. I would like to see exactly what some of the data that is present in this set looks like."
   ]
  },
  {
   "cell_type": "code",
   "execution_count": 233,
   "id": "aded71c6",
   "metadata": {},
   "outputs": [
    {
     "data": {
      "text/plain": [
       "1              C85\n",
       "3             C123\n",
       "6              E46\n",
       "10              G6\n",
       "11            C103\n",
       "          ...     \n",
       "871            D35\n",
       "872    B51 B53 B55\n",
       "879            C50\n",
       "887            B42\n",
       "889           C148\n",
       "Name: Cabin, Length: 204, dtype: object"
      ]
     },
     "execution_count": 233,
     "metadata": {},
     "output_type": "execute_result"
    }
   ],
   "source": [
    "cabin_data = train[train[\"Cabin\"].isnull() == False]\n",
    "cabin_data['Cabin']\n"
   ]
  },
  {
   "cell_type": "markdown",
   "id": "6b9e61aa",
   "metadata": {},
   "source": [
    "It appears that the cabin number begins with a letter indicating the deck. This data would be useful for determining how location affected the probability of passenger survival. We know that Pclass is a measure of socioeconomic status and we also know that different decks were carved out for people who purchased more expensive tickets. This means that I can get some of the insight that the cabin data may have contained out of the Pclass data. Still, it's a shame that there isn't more complete cabin data. Due to the lack of data the cabin column will need to be dropped. "
   ]
  },
  {
   "cell_type": "code",
   "execution_count": 234,
   "id": "48c3183d",
   "metadata": {},
   "outputs": [],
   "source": [
    "train = train.drop(\"Cabin\", axis = 1)"
   ]
  },
  {
   "cell_type": "code",
   "execution_count": 235,
   "id": "3d28cb76",
   "metadata": {},
   "outputs": [],
   "source": [
    "test = test.drop(\"Cabin\", axis = 1)"
   ]
  },
  {
   "cell_type": "markdown",
   "id": "1ed391d8",
   "metadata": {},
   "source": [
    "#### Age\n",
    "There is plenty of data available in the age column to impute missing values. There are multiple ways to do this. A simple way is to just compute the average of the age column and use that number to fill in the missing values. This method can be susceptible to the effects of outlier, but since the human lifespan is set within a relatively narrow range, this is unlikely to impact the data significantly. The other option is to use other features to try to reverse engineer the age. This entails finding what features most highly correlate with age. Once these features are discovered, I can loop through the rows with missing ages and fill that missing data in with the average age of people in the data set who have similar features and do have data available about their age. Let me start by computing the average age to use as a baseline for checking how these two methods compare."
   ]
  },
  {
   "cell_type": "code",
   "execution_count": 236,
   "id": "2b1f04fb",
   "metadata": {},
   "outputs": [
    {
     "name": "stdout",
     "output_type": "stream",
     "text": [
      "Average Age: 29.881137667304014\n"
     ]
    }
   ],
   "source": [
    "# Combine datasets \n",
    "combined = pd.concat([train, test], axis = 0).reset_index(drop=True)\n",
    "print(\"Average Age: {avgage}\".format(avgage = combined[\"Age\"].mean()))"
   ]
  },
  {
   "cell_type": "code",
   "execution_count": 237,
   "id": "60952266",
   "metadata": {},
   "outputs": [],
   "source": [
    "# Encoding sex to numeric. Changing lablel to male, 0 = False 1 = True.\n",
    "combined['is_male'] = combined['Sex'].map({'male': 1, 'female': 0})"
   ]
  },
  {
   "cell_type": "code",
   "execution_count": 238,
   "id": "ff42483f",
   "metadata": {},
   "outputs": [
    {
     "data": {
      "text/plain": [
       "<AxesSubplot:>"
      ]
     },
     "execution_count": 238,
     "metadata": {},
     "output_type": "execute_result"
    },
    {
     "data": {
      "image/png": "[encoded data removed]",
      "text/plain": [
       "<Figure size 432x288 with 2 Axes>"
      ]
     },
     "metadata": {
      "needs_background": "light"
     },
     "output_type": "display_data"
    }
   ],
   "source": [
    "#Dropping non numeric columns and columns with continuous data that will be hard to match with during the loop.\n",
    "#It would be difficult to use fare here, because matching two different rows on the cost of a ticket down to the penny is not likely.\n",
    "sns.heatmap(combined.drop([\"Survived\", \"Name\", \"PassengerId\",\"Fare\", \"Sex\", \"Ticket\", \"Embarked\"], axis=1).corr(),cmap = \"bwr\", annot = True)"
   ]
  },
  {
   "cell_type": "markdown",
   "id": "a5145b4b",
   "metadata": {},
   "source": [
    "There is not a strong correlation between age and sex. There is a strong correlation between age and pclass, sibsp,and parch. Therefore, these features will be my predictors for age in rows where age is missing."
   ]
  },
  {
   "cell_type": "code",
   "execution_count": 239,
   "id": "80930a35",
   "metadata": {},
   "outputs": [],
   "source": [
    "missing_ages = combined[combined['Age'].isnull()]\n",
    "missing_age_indices = list(missing_ages.index)\n",
    "\n",
    "for index in missing_age_indices:\n",
    "    median_age = combined[\"Age\"].median()\n",
    "    # Filtering for all rows in the age column from the combined dataframe where the number of siblings,\n",
    "    # parents and children, as well as p class are the same as the current row that is being iterating over. This\n",
    "    # row comes from the index of rows which have a missing age value. \n",
    "    predicted_age = combined[\"Age\"][((combined['SibSp'] == combined.iloc[index]['SibSp'])\n",
    "                                    &(combined['Parch'] == combined.iloc[index]['Parch'])\n",
    "                                    &(combined['Pclass'] == combined.iloc[index]['Pclass']))].median()\n",
    "    #If there is no match between the features of the row that is being iterated over and the rows in the rest\n",
    "    #of the data set, then set the missing value to the median age. \n",
    "    if np.isnan(predicted_age):\n",
    "        combined[\"Age\"].iloc[index] = median_age\n",
    "    else:\n",
    "        combined[\"Age\"].iloc[index] = predicted_age"
   ]
  },
  {
   "cell_type": "markdown",
   "id": "eb6af528",
   "metadata": {},
   "source": [
    "#### Fare \n",
    "There is a single missing value in the fare column. Since, there is only one row with a missing value I will simply impute the middle fare value of the data set. It's best to use the median in this case, because it is more forgiving when dealing with data that has the potential to have large outliers. The sky is the limit for the cost of a ticket. \n",
    "\n",
    "\n"
   ]
  },
  {
   "cell_type": "code",
   "execution_count": 240,
   "id": "62640b33",
   "metadata": {},
   "outputs": [],
   "source": [
    "combined[\"Fare\"].fillna(combined[\"Fare\"].median(), inplace = True)"
   ]
  },
  {
   "cell_type": "markdown",
   "id": "045dd1fb",
   "metadata": {},
   "source": [
    "#### Embarked\n",
    "There are two missing values in embarked. I will fill in those missing values with the most frequent value in the dataset.\n",
    "\n"
   ]
  },
  {
   "cell_type": "code",
   "execution_count": 241,
   "id": "a86113cb",
   "metadata": {},
   "outputs": [],
   "source": [
    "combined[\"Embarked\"].fillna(combined[\"Embarked\"].mode()[0], inplace = True)"
   ]
  },
  {
   "cell_type": "code",
   "execution_count": 242,
   "id": "ef9cfd99",
   "metadata": {},
   "outputs": [
    {
     "name": "stdout",
     "output_type": "stream",
     "text": [
      "PassengerId      0\n",
      "Pclass           0\n",
      "Name             0\n",
      "Sex              0\n",
      "Age              0\n",
      "SibSp            0\n",
      "Parch            0\n",
      "Ticket           0\n",
      "Fare             0\n",
      "Embarked         0\n",
      "is_male          0\n",
      "Survived       418\n",
      "dtype: int64\n"
     ]
    }
   ],
   "source": [
    "#There are no more missing values in the dataset. \n",
    "print(combined.isnull().sum().sort_values())"
   ]
  },
  {
   "cell_type": "markdown",
   "id": "0dfe5b31",
   "metadata": {},
   "source": [
    "## Hypothesis\n",
    " The Survived column shows the fate of each passenger. This is the dependent variable that I am interested in predicting. Although this column contains numeric data, it reperesents catagorical data with the numeral 1 indicating survived and the numeral 0 representing did not survive. Since the model will be predicting if a passenger died or did not die, this is a classification problem.   \n",
    "\n",
    "The available data provides a measure for sex and socioeconomic status (multiple columns). It is likely that these factors are the main factors that determined if a passenger died or did not die. Other factors worth looking into might be age and family make up. There is likely multicolinearity between some of the independent variables because they look to be related to each other. For example, both ticket fare and Pclass are a measure of socioeconomic status. If mulicolinearity is likely to skew the impact that each of the independent variables have on the dependent variable, than columns will need to be dropped. This might not be a problem for the predictive models, because the relationships between each independent variable and the dependent variables are not as important as the way the entire model performs.\n"
   ]
  },
  {
   "cell_type": "markdown",
   "id": "f0b3d32e",
   "metadata": {},
   "source": [
    "## Descriptive Statistics"
   ]
  },
  {
   "cell_type": "code",
   "execution_count": 243,
   "id": "4fa58476",
   "metadata": {},
   "outputs": [
    {
     "data": {
      "text/html": [
       "<div>\n",
       "<style scoped>\n",
       "    .dataframe tbody tr th:only-of-type {\n",
       "        vertical-align: middle;\n",
       "    }\n",
       "\n",
       "    .dataframe tbody tr th {\n",
       "        vertical-align: top;\n",
       "    }\n",
       "\n",
       "    .dataframe thead th {\n",
       "        text-align: right;\n",
       "    }\n",
       "</style>\n",
       "<table border=\"1\" class=\"dataframe\">\n",
       "  <thead>\n",
       "    <tr style=\"text-align: right;\">\n",
       "      <th></th>\n",
       "      <th>PassengerId</th>\n",
       "      <th>Survived</th>\n",
       "      <th>Pclass</th>\n",
       "      <th>Age</th>\n",
       "      <th>SibSp</th>\n",
       "      <th>Parch</th>\n",
       "      <th>Fare</th>\n",
       "      <th>is_male</th>\n",
       "    </tr>\n",
       "  </thead>\n",
       "  <tbody>\n",
       "    <tr>\n",
       "      <th>count</th>\n",
       "      <td>1309.000000</td>\n",
       "      <td>891.000000</td>\n",
       "      <td>1309.000000</td>\n",
       "      <td>1309.000000</td>\n",
       "      <td>1309.000000</td>\n",
       "      <td>1309.000000</td>\n",
       "      <td>1309.000000</td>\n",
       "      <td>1309.000000</td>\n",
       "    </tr>\n",
       "    <tr>\n",
       "      <th>mean</th>\n",
       "      <td>655.000000</td>\n",
       "      <td>0.383838</td>\n",
       "      <td>2.294882</td>\n",
       "      <td>29.179656</td>\n",
       "      <td>0.498854</td>\n",
       "      <td>0.385027</td>\n",
       "      <td>33.281086</td>\n",
       "      <td>0.644003</td>\n",
       "    </tr>\n",
       "    <tr>\n",
       "      <th>std</th>\n",
       "      <td>378.020061</td>\n",
       "      <td>0.486592</td>\n",
       "      <td>0.837836</td>\n",
       "      <td>13.269138</td>\n",
       "      <td>1.041658</td>\n",
       "      <td>0.865560</td>\n",
       "      <td>51.741500</td>\n",
       "      <td>0.478997</td>\n",
       "    </tr>\n",
       "    <tr>\n",
       "      <th>min</th>\n",
       "      <td>1.000000</td>\n",
       "      <td>0.000000</td>\n",
       "      <td>1.000000</td>\n",
       "      <td>0.170000</td>\n",
       "      <td>0.000000</td>\n",
       "      <td>0.000000</td>\n",
       "      <td>0.000000</td>\n",
       "      <td>0.000000</td>\n",
       "    </tr>\n",
       "    <tr>\n",
       "      <th>25%</th>\n",
       "      <td>328.000000</td>\n",
       "      <td>0.000000</td>\n",
       "      <td>2.000000</td>\n",
       "      <td>22.000000</td>\n",
       "      <td>0.000000</td>\n",
       "      <td>0.000000</td>\n",
       "      <td>7.895800</td>\n",
       "      <td>0.000000</td>\n",
       "    </tr>\n",
       "    <tr>\n",
       "      <th>50%</th>\n",
       "      <td>655.000000</td>\n",
       "      <td>0.000000</td>\n",
       "      <td>3.000000</td>\n",
       "      <td>26.000000</td>\n",
       "      <td>0.000000</td>\n",
       "      <td>0.000000</td>\n",
       "      <td>14.454200</td>\n",
       "      <td>1.000000</td>\n",
       "    </tr>\n",
       "    <tr>\n",
       "      <th>75%</th>\n",
       "      <td>982.000000</td>\n",
       "      <td>1.000000</td>\n",
       "      <td>3.000000</td>\n",
       "      <td>37.000000</td>\n",
       "      <td>1.000000</td>\n",
       "      <td>0.000000</td>\n",
       "      <td>31.275000</td>\n",
       "      <td>1.000000</td>\n",
       "    </tr>\n",
       "    <tr>\n",
       "      <th>max</th>\n",
       "      <td>1309.000000</td>\n",
       "      <td>1.000000</td>\n",
       "      <td>3.000000</td>\n",
       "      <td>80.000000</td>\n",
       "      <td>8.000000</td>\n",
       "      <td>9.000000</td>\n",
       "      <td>512.329200</td>\n",
       "      <td>1.000000</td>\n",
       "    </tr>\n",
       "  </tbody>\n",
       "</table>\n",
       "</div>"
      ],
      "text/plain": [
       "       PassengerId    Survived       Pclass          Age        SibSp  \\\n",
       "count  1309.000000  891.000000  1309.000000  1309.000000  1309.000000   \n",
       "mean    655.000000    0.383838     2.294882    29.179656     0.498854   \n",
       "std     378.020061    0.486592     0.837836    13.269138     1.041658   \n",
       "min       1.000000    0.000000     1.000000     0.170000     0.000000   \n",
       "25%     328.000000    0.000000     2.000000    22.000000     0.000000   \n",
       "50%     655.000000    0.000000     3.000000    26.000000     0.000000   \n",
       "75%     982.000000    1.000000     3.000000    37.000000     1.000000   \n",
       "max    1309.000000    1.000000     3.000000    80.000000     8.000000   \n",
       "\n",
       "             Parch         Fare      is_male  \n",
       "count  1309.000000  1309.000000  1309.000000  \n",
       "mean      0.385027    33.281086     0.644003  \n",
       "std       0.865560    51.741500     0.478997  \n",
       "min       0.000000     0.000000     0.000000  \n",
       "25%       0.000000     7.895800     0.000000  \n",
       "50%       0.000000    14.454200     1.000000  \n",
       "75%       0.000000    31.275000     1.000000  \n",
       "max       9.000000   512.329200     1.000000  "
      ]
     },
     "execution_count": 243,
     "metadata": {},
     "output_type": "execute_result"
    }
   ],
   "source": [
    "combined.describe()"
   ]
  },
  {
   "cell_type": "markdown",
   "id": "e0ddd6b5",
   "metadata": {},
   "source": [
    "\n",
    "The above chart provides a quick overview of some statistics. Here is what jumps out to me. \n",
    "\n",
    "- Survival Rate of the passengers in this dataset is around 38%\n",
    "- Average passenger age of this dataset was around 29 years old \n",
    "- The average fare in this dataset was \\\\$33. The max fare was around \\\\$512. The large difference between the first three quartiles and the max indicates that the data is right skewed. The mean fare is double the median fare! This will need to be looked into further later.\n",
    "- 64 percent of passengers in this dataset were male. \n",
    "\n",
    "\n"
   ]
  },
  {
   "cell_type": "markdown",
   "id": "adb4ad8d",
   "metadata": {},
   "source": [
    "### Catagorical Variables"
   ]
  },
  {
   "cell_type": "markdown",
   "id": "907191a1",
   "metadata": {},
   "source": [
    "#### Gender and Survival"
   ]
  },
  {
   "cell_type": "code",
   "execution_count": 244,
   "id": "7517113a",
   "metadata": {},
   "outputs": [
    {
     "data": {
      "text/html": [
       "<div>\n",
       "<style scoped>\n",
       "    .dataframe tbody tr th:only-of-type {\n",
       "        vertical-align: middle;\n",
       "    }\n",
       "\n",
       "    .dataframe tbody tr th {\n",
       "        vertical-align: top;\n",
       "    }\n",
       "\n",
       "    .dataframe thead th {\n",
       "        text-align: right;\n",
       "    }\n",
       "</style>\n",
       "<table border=\"1\" class=\"dataframe\">\n",
       "  <thead>\n",
       "    <tr style=\"text-align: right;\">\n",
       "      <th></th>\n",
       "      <th>Sex</th>\n",
       "      <th>Survived</th>\n",
       "    </tr>\n",
       "  </thead>\n",
       "  <tbody>\n",
       "    <tr>\n",
       "      <th>0</th>\n",
       "      <td>female</td>\n",
       "      <td>0.742038</td>\n",
       "    </tr>\n",
       "    <tr>\n",
       "      <th>1</th>\n",
       "      <td>male</td>\n",
       "      <td>0.188908</td>\n",
       "    </tr>\n",
       "  </tbody>\n",
       "</table>\n",
       "</div>"
      ],
      "text/plain": [
       "      Sex  Survived\n",
       "0  female  0.742038\n",
       "1    male  0.188908"
      ]
     },
     "execution_count": 244,
     "metadata": {},
     "output_type": "execute_result"
    }
   ],
   "source": [
    "combined[[\"Sex\", \"Survived\"]].groupby(\"Sex\", as_index = False).mean()"
   ]
  },
  {
   "cell_type": "code",
   "execution_count": 245,
   "id": "5e12b0ac",
   "metadata": {},
   "outputs": [
    {
     "data": {
      "text/plain": [
       "<AxesSubplot:xlabel='Sex', ylabel='Survived'>"
      ]
     },
     "execution_count": 245,
     "metadata": {},
     "output_type": "execute_result"
    },
    {
     "data": {
      "image/png": "[encoded data removed]",
      "text/plain": [
       "<Figure size 432x288 with 1 Axes>"
      ]
     },
     "metadata": {
      "needs_background": "light"
     },
     "output_type": "display_data"
    }
   ],
   "source": [
    "sns.barplot(x = \"Sex\", y = \"Survived\", data = combined)"
   ]
  },
  {
   "cell_type": "markdown",
   "id": "bcece5e4",
   "metadata": {},
   "source": [
    "It appears that many more woman in this data set survived this disaster than men. "
   ]
  },
  {
   "cell_type": "markdown",
   "id": "3fc9816a",
   "metadata": {},
   "source": [
    "#### Passenger Class and Survival\n"
   ]
  },
  {
   "cell_type": "code",
   "execution_count": 246,
   "id": "c4bea647",
   "metadata": {},
   "outputs": [
    {
     "data": {
      "text/html": [
       "<div>\n",
       "<style scoped>\n",
       "    .dataframe tbody tr th:only-of-type {\n",
       "        vertical-align: middle;\n",
       "    }\n",
       "\n",
       "    .dataframe tbody tr th {\n",
       "        vertical-align: top;\n",
       "    }\n",
       "\n",
       "    .dataframe thead th {\n",
       "        text-align: right;\n",
       "    }\n",
       "</style>\n",
       "<table border=\"1\" class=\"dataframe\">\n",
       "  <thead>\n",
       "    <tr style=\"text-align: right;\">\n",
       "      <th></th>\n",
       "      <th>Pclass</th>\n",
       "      <th>Survived</th>\n",
       "    </tr>\n",
       "  </thead>\n",
       "  <tbody>\n",
       "    <tr>\n",
       "      <th>0</th>\n",
       "      <td>1</td>\n",
       "      <td>0.629630</td>\n",
       "    </tr>\n",
       "    <tr>\n",
       "      <th>1</th>\n",
       "      <td>2</td>\n",
       "      <td>0.472826</td>\n",
       "    </tr>\n",
       "    <tr>\n",
       "      <th>2</th>\n",
       "      <td>3</td>\n",
       "      <td>0.242363</td>\n",
       "    </tr>\n",
       "  </tbody>\n",
       "</table>\n",
       "</div>"
      ],
      "text/plain": [
       "   Pclass  Survived\n",
       "0       1  0.629630\n",
       "1       2  0.472826\n",
       "2       3  0.242363"
      ]
     },
     "execution_count": 246,
     "metadata": {},
     "output_type": "execute_result"
    }
   ],
   "source": [
    "combined[[\"Pclass\", \"Survived\"]].groupby(\"Pclass\", as_index = False).mean()"
   ]
  },
  {
   "cell_type": "code",
   "execution_count": 247,
   "id": "8b704032",
   "metadata": {},
   "outputs": [
    {
     "data": {
      "text/plain": [
       "<AxesSubplot:xlabel='Pclass', ylabel='Survived'>"
      ]
     },
     "execution_count": 247,
     "metadata": {},
     "output_type": "execute_result"
    },
    {
     "data": {
      "image/png": "[encoded data removed]",
      "text/plain": [
       "<Figure size 432x288 with 1 Axes>"
      ]
     },
     "metadata": {
      "needs_background": "light"
     },
     "output_type": "display_data"
    }
   ],
   "source": [
    "sns.barplot(x = \"Pclass\", y = \"Survived\", data = combined)"
   ]
  },
  {
   "cell_type": "code",
   "execution_count": 248,
   "id": "35aae019",
   "metadata": {},
   "outputs": [
    {
     "data": {
      "text/plain": [
       "<AxesSubplot:xlabel='Pclass', ylabel='Survived'>"
      ]
     },
     "execution_count": 248,
     "metadata": {},
     "output_type": "execute_result"
    },
    {
     "data": {
      "image/png": "[encoded data removed]",
      "text/plain": [
       "<Figure size 432x288 with 1 Axes>"
      ]
     },
     "metadata": {
      "needs_background": "light"
     },
     "output_type": "display_data"
    }
   ],
   "source": [
    "sns.barplot(x = \"Pclass\", y = \"Survived\", data = combined, hue = \"Sex\")"
   ]
  },
  {
   "cell_type": "code",
   "execution_count": 249,
   "id": "49ee434e",
   "metadata": {},
   "outputs": [
    {
     "data": {
      "text/html": [
       "<div>\n",
       "<style scoped>\n",
       "    .dataframe tbody tr th:only-of-type {\n",
       "        vertical-align: middle;\n",
       "    }\n",
       "\n",
       "    .dataframe tbody tr th {\n",
       "        vertical-align: top;\n",
       "    }\n",
       "\n",
       "    .dataframe thead th {\n",
       "        text-align: right;\n",
       "    }\n",
       "</style>\n",
       "<table border=\"1\" class=\"dataframe\">\n",
       "  <thead>\n",
       "    <tr style=\"text-align: right;\">\n",
       "      <th></th>\n",
       "      <th>Parch</th>\n",
       "      <th>Survived</th>\n",
       "    </tr>\n",
       "  </thead>\n",
       "  <tbody>\n",
       "    <tr>\n",
       "      <th>0</th>\n",
       "      <td>0</td>\n",
       "      <td>0.984375</td>\n",
       "    </tr>\n",
       "    <tr>\n",
       "      <th>1</th>\n",
       "      <td>1</td>\n",
       "      <td>1.000000</td>\n",
       "    </tr>\n",
       "    <tr>\n",
       "      <th>2</th>\n",
       "      <td>2</td>\n",
       "      <td>0.846154</td>\n",
       "    </tr>\n",
       "    <tr>\n",
       "      <th>3</th>\n",
       "      <td>3</td>\n",
       "      <td>NaN</td>\n",
       "    </tr>\n",
       "    <tr>\n",
       "      <th>4</th>\n",
       "      <td>4</td>\n",
       "      <td>NaN</td>\n",
       "    </tr>\n",
       "  </tbody>\n",
       "</table>\n",
       "</div>"
      ],
      "text/plain": [
       "   Parch  Survived\n",
       "0      0  0.984375\n",
       "1      1  1.000000\n",
       "2      2  0.846154\n",
       "3      3       NaN\n",
       "4      4       NaN"
      ]
     },
     "execution_count": 249,
     "metadata": {},
     "output_type": "execute_result"
    }
   ],
   "source": [
    "female_only = combined[combined[\"Sex\"] == \"female\"]\n",
    "female_only_rich = female_only[female_only[\"Pclass\"] == 1]\n",
    "female_only_rich.head()\n",
    "female_only_rich[[\"Survived\", \"Parch\"]].groupby(\"Parch\", as_index = False).mean()"
   ]
  },
  {
   "cell_type": "code",
   "execution_count": 250,
   "id": "ef6c3680",
   "metadata": {},
   "outputs": [
    {
     "data": {
      "text/plain": [
       "[Text(0.5, 0, 'Number of children (first class female only)'),\n",
       " Text(0, 0.5, '% Survived')]"
      ]
     },
     "execution_count": 250,
     "metadata": {},
     "output_type": "execute_result"
    },
    {
     "data": {
      "image/png": "[encoded data removed]",
      "text/plain": [
       "<Figure size 432x288 with 1 Axes>"
      ]
     },
     "metadata": {
      "needs_background": "light"
     },
     "output_type": "display_data"
    }
   ],
   "source": [
    "ax = sns.barplot(x = \"Parch\", y = \"Survived\", data = female_only_rich)\n",
    "ax.set(xlabel=\"Number of children (first class female only)\", ylabel = \"% Survived\")"
   ]
  },
  {
   "cell_type": "markdown",
   "id": "c2059a5d",
   "metadata": {},
   "source": [
    "Overall, 1st class passengers fared signinficanly better over 2nd and 3rd class passengers. \n",
    "\n",
    "Overall, 1st class passengers were more likely to survive than to perish.\n",
    "\n",
    "Overall, 2nd class passengers chance of survival was about a coin toss. \n",
    "\n",
    "Overall, 3rd class passengers had a 75% chance of death.\n",
    "\n",
    "A very clear trend emerges when survival rate is broken down by both Sex and Pclass. All females generally fared better than men regardless of class. Even the lowest class female passengers had a higher chance of survival than first class men. \n",
    "\n",
    "1st class passengers that were Female had an over 90% change of Survival\n",
    "\n",
    "There does not seem to be any clear difference in probability regarding the survival of 1st class females with children vs without."
   ]
  },
  {
   "cell_type": "markdown",
   "id": "1b2c0587",
   "metadata": {},
   "source": [
    "#### Point of Entry and Survival\n"
   ]
  },
  {
   "cell_type": "code",
   "execution_count": 251,
   "id": "a2ce15af",
   "metadata": {},
   "outputs": [
    {
     "data": {
      "text/html": [
       "<div>\n",
       "<style scoped>\n",
       "    .dataframe tbody tr th:only-of-type {\n",
       "        vertical-align: middle;\n",
       "    }\n",
       "\n",
       "    .dataframe tbody tr th {\n",
       "        vertical-align: top;\n",
       "    }\n",
       "\n",
       "    .dataframe thead th {\n",
       "        text-align: right;\n",
       "    }\n",
       "</style>\n",
       "<table border=\"1\" class=\"dataframe\">\n",
       "  <thead>\n",
       "    <tr style=\"text-align: right;\">\n",
       "      <th></th>\n",
       "      <th>Embarked</th>\n",
       "      <th>Survived</th>\n",
       "    </tr>\n",
       "  </thead>\n",
       "  <tbody>\n",
       "    <tr>\n",
       "      <th>0</th>\n",
       "      <td>C</td>\n",
       "      <td>0.553571</td>\n",
       "    </tr>\n",
       "    <tr>\n",
       "      <th>1</th>\n",
       "      <td>Q</td>\n",
       "      <td>0.389610</td>\n",
       "    </tr>\n",
       "    <tr>\n",
       "      <th>2</th>\n",
       "      <td>S</td>\n",
       "      <td>0.339009</td>\n",
       "    </tr>\n",
       "  </tbody>\n",
       "</table>\n",
       "</div>"
      ],
      "text/plain": [
       "  Embarked  Survived\n",
       "0        C  0.553571\n",
       "1        Q  0.389610\n",
       "2        S  0.339009"
      ]
     },
     "execution_count": 251,
     "metadata": {},
     "output_type": "execute_result"
    }
   ],
   "source": [
    "combined[[\"Embarked\", \"Survived\"]].groupby(\"Embarked\", as_index = False).mean()"
   ]
  },
  {
   "cell_type": "code",
   "execution_count": 252,
   "id": "a2c01e95",
   "metadata": {},
   "outputs": [
    {
     "data": {
      "text/plain": [
       "<AxesSubplot:xlabel='Embarked', ylabel='Survived'>"
      ]
     },
     "execution_count": 252,
     "metadata": {},
     "output_type": "execute_result"
    },
    {
     "data": {
      "image/png": "[encoded data removed]",
      "text/plain": [
       "<Figure size 432x288 with 1 Axes>"
      ]
     },
     "metadata": {
      "needs_background": "light"
     },
     "output_type": "display_data"
    }
   ],
   "source": [
    "sns.barplot(x = \"Embarked\", y = \"Survived\", data = combined)"
   ]
  },
  {
   "cell_type": "markdown",
   "id": "b7ca0b53",
   "metadata": {},
   "source": [
    "Of the passengers in the data set, those who embarked at Cherbourg fared better than those who boarded at the other locations. There may be a relation between passenger class and point of entry that can explain the increased likelihood of survival for passengers who embarkd at Cherbourg. To find out I will conduct a Chi squared test for independence."
   ]
  },
  {
   "cell_type": "code",
   "execution_count": 253,
   "id": "c23b3e08",
   "metadata": {},
   "outputs": [
    {
     "data": {
      "text/html": [
       "<div>\n",
       "<style scoped>\n",
       "    .dataframe tbody tr th:only-of-type {\n",
       "        vertical-align: middle;\n",
       "    }\n",
       "\n",
       "    .dataframe tbody tr th {\n",
       "        vertical-align: top;\n",
       "    }\n",
       "\n",
       "    .dataframe thead th {\n",
       "        text-align: right;\n",
       "    }\n",
       "</style>\n",
       "<table border=\"1\" class=\"dataframe\">\n",
       "  <thead>\n",
       "    <tr style=\"text-align: right;\">\n",
       "      <th>Embarked</th>\n",
       "      <th>C</th>\n",
       "      <th>Q</th>\n",
       "      <th>S</th>\n",
       "      <th>All</th>\n",
       "    </tr>\n",
       "    <tr>\n",
       "      <th>Pclass</th>\n",
       "      <th></th>\n",
       "      <th></th>\n",
       "      <th></th>\n",
       "      <th></th>\n",
       "    </tr>\n",
       "  </thead>\n",
       "  <tbody>\n",
       "    <tr>\n",
       "      <th>1</th>\n",
       "      <td>141</td>\n",
       "      <td>3</td>\n",
       "      <td>179</td>\n",
       "      <td>323</td>\n",
       "    </tr>\n",
       "    <tr>\n",
       "      <th>2</th>\n",
       "      <td>28</td>\n",
       "      <td>7</td>\n",
       "      <td>242</td>\n",
       "      <td>277</td>\n",
       "    </tr>\n",
       "    <tr>\n",
       "      <th>3</th>\n",
       "      <td>101</td>\n",
       "      <td>113</td>\n",
       "      <td>495</td>\n",
       "      <td>709</td>\n",
       "    </tr>\n",
       "    <tr>\n",
       "      <th>All</th>\n",
       "      <td>270</td>\n",
       "      <td>123</td>\n",
       "      <td>916</td>\n",
       "      <td>1309</td>\n",
       "    </tr>\n",
       "  </tbody>\n",
       "</table>\n",
       "</div>"
      ],
      "text/plain": [
       "Embarked    C    Q    S   All\n",
       "Pclass                       \n",
       "1         141    3  179   323\n",
       "2          28    7  242   277\n",
       "3         101  113  495   709\n",
       "All       270  123  916  1309"
      ]
     },
     "execution_count": 253,
     "metadata": {},
     "output_type": "execute_result"
    }
   ],
   "source": [
    "cross_tab = pd.crosstab(combined.Pclass, combined.Embarked, margins = True)\n",
    "cross_tab"
   ]
  },
  {
   "cell_type": "code",
   "execution_count": 254,
   "id": "e9c44ead",
   "metadata": {},
   "outputs": [
    {
     "data": {
      "text/plain": [
       "<seaborn.axisgrid.FacetGrid at 0x15a72470e80>"
      ]
     },
     "execution_count": 254,
     "metadata": {},
     "output_type": "execute_result"
    },
    {
     "data": {
      "image/png": "[encoded data removed]",
      "text/plain": [
       "<Figure size 1080x360 with 3 Axes>"
      ]
     },
     "metadata": {
      "needs_background": "light"
     },
     "output_type": "display_data"
    }
   ],
   "source": [
    "sns.factorplot('Pclass', col = 'Embarked', data = combined, kind = 'count')"
   ]
  },
  {
   "cell_type": "markdown",
   "id": "1c1ec30e",
   "metadata": {},
   "source": [
    "From the cross tabulation alone it can be seen that S has more third class passengers than 1st and C has more 1st class passengers than 3rd. \n",
    "\n"
   ]
  },
  {
   "cell_type": "markdown",
   "id": "a84c5a2d",
   "metadata": {},
   "source": [
    "A chi squared test for independence between Pclass and Embarked shows that it is highly likely these variables are related."
   ]
  },
  {
   "cell_type": "code",
   "execution_count": 255,
   "id": "d05a92b3",
   "metadata": {},
   "outputs": [
    {
     "name": "stdout",
     "output_type": "stream",
     "text": [
      "chi squared: 204.48431967559742\n",
      " pvalue: 4.0799162291284984e-43\n",
      " degrees of freedom: 4\n",
      "\n"
     ]
    }
   ],
   "source": [
    "observed_values = np.array([cross_tab.iloc[0][0:3].values, cross_tab.iloc[1][0:3].values, cross_tab.iloc[2][0:3].values])\n",
    "chi = stats.chi2_contingency(observed_values[0:3])\n",
    "print(\"chi squared: {chi}\\n pvalue: {pval}\\n degrees of freedom: {df}\\n\".format(chi = chi[0], pval = chi[1], df = chi[2]))"
   ]
  },
  {
   "cell_type": "markdown",
   "id": "c90c8cc6",
   "metadata": {},
   "source": [
    "There are two conclusions that can be drawn from the analysis of the relationship between class and embarked. One is that passenger class is likely influencing the correlation between Embarked and Survived. It appears that passenger class is acting as a moderator variable."
   ]
  },
  {
   "cell_type": "markdown",
   "id": "9cc912f4",
   "metadata": {},
   "source": [
    "## Numerical Variables"
   ]
  },
  {
   "cell_type": "markdown",
   "id": "21869477",
   "metadata": {},
   "source": [
    "Heatmaps or correlation tables are often used to display the relationships between continous data. I will be using Pearson's correlation coeffecient to do this. One of the assumptions of Pearson's correlation coeffecient is that there are no outliers in the dataset. Outliers can also cause problems with the accuracy of predictive models, so I will be removing these using Tukey's method. An overview of the method can be viewed [here](https://www.statisticshowto.com/statistics-basics/find-outliers/). "
   ]
  },
  {
   "cell_type": "code",
   "execution_count": 256,
   "id": "7e51fad5",
   "metadata": {},
   "outputs": [],
   "source": [
    "#Tukey Fences\n",
    "\n",
    "#data = dataframe\n",
    "#n = cut off for the frequencies of outliers found in each row\n",
    "#columns = columns of interest in df.\n",
    "\n",
    "def tukey_fences(data, n, columns):\n",
    "    outlier_indices = []\n",
    "    for item in columns:\n",
    "        first_quartile = np.percentile(data[item], 25) \n",
    "        third_quartile = np.percentile(data[item], 75)\n",
    "        inter_quartile_range = third_quartile - first_quartile\n",
    "        fence = inter_quartile_range * 1.5\n",
    "        #Creates a list of indeces of each row that has data points that lie either above or below the tukey fence.\n",
    "        outlier_list = data[(data[item] > third_quartile + fence) | (data[item] < first_quartile - fence)].index\n",
    "        outlier_indices.extend(outlier_list)\n",
    "    #Counts the number of times an indices appears in the outlier indices lists.\n",
    "    indices_count = Counter(outlier_indices)\n",
    "    #If the indices is counted more than the cuttoff set by the n parameter, it will be added to a new list called multiple outliers.\n",
    "    cutoff_indices = list(key for key, value in indices_count.items() if value > n)\n",
    "    return cutoff_indices\n",
    "    "
   ]
  },
  {
   "cell_type": "code",
   "execution_count": 257,
   "id": "b5e357db",
   "metadata": {},
   "outputs": [],
   "source": [
    "outlier_indices = tukey_fences(train,2,['Age', 'SibSp', 'Parch', 'Fare'])\n",
    "combined = combined.drop(outlier_indices, axis = 0).reset_index(drop = True) \n"
   ]
  },
  {
   "cell_type": "markdown",
   "id": "a8877795",
   "metadata": {},
   "source": [
    "### Numerical Correlation\n",
    "With the outliers dropped I can check for correlations between the different numerical variables and the survived column. "
   ]
  },
  {
   "cell_type": "code",
   "execution_count": 258,
   "id": "bd3fed43",
   "metadata": {},
   "outputs": [
    {
     "data": {
      "text/plain": [
       "<AxesSubplot:>"
      ]
     },
     "execution_count": 258,
     "metadata": {},
     "output_type": "execute_result"
    },
    {
     "data": {
      "image/png": "[encoded data removed]",
      "text/plain": [
       "<Figure size 432x288 with 2 Axes>"
      ]
     },
     "metadata": {
      "needs_background": "light"
     },
     "output_type": "display_data"
    }
   ],
   "source": [
    "sns.heatmap(combined[['Survived', 'SibSp', 'Parch', 'Age', 'Fare']].corr(), annot = True, cmap = \"bwr\")"
   ]
  },
  {
   "cell_type": "markdown",
   "id": "5d287293",
   "metadata": {},
   "source": [
    "Fare has the highest correlation with the Survived column. The rest of the independent variables don't seem very highly correlated with Survived. There does seem to be some correlations between the independent variables though. This could be an issue for some regression models if there is a significant amount of colinearity. I will test for this now."
   ]
  },
  {
   "cell_type": "code",
   "execution_count": 259,
   "id": "e1897bc0",
   "metadata": {},
   "outputs": [
    {
     "data": {
      "text/html": [
       "<div>\n",
       "<style scoped>\n",
       "    .dataframe tbody tr th:only-of-type {\n",
       "        vertical-align: middle;\n",
       "    }\n",
       "\n",
       "    .dataframe tbody tr th {\n",
       "        vertical-align: top;\n",
       "    }\n",
       "\n",
       "    .dataframe thead th {\n",
       "        text-align: right;\n",
       "    }\n",
       "</style>\n",
       "<table border=\"1\" class=\"dataframe\">\n",
       "  <thead>\n",
       "    <tr style=\"text-align: right;\">\n",
       "      <th></th>\n",
       "      <th>features</th>\n",
       "      <th>VIF</th>\n",
       "    </tr>\n",
       "  </thead>\n",
       "  <tbody>\n",
       "    <tr>\n",
       "      <th>0</th>\n",
       "      <td>Pclass</td>\n",
       "      <td>4.250485</td>\n",
       "    </tr>\n",
       "    <tr>\n",
       "      <th>1</th>\n",
       "      <td>Age</td>\n",
       "      <td>4.144098</td>\n",
       "    </tr>\n",
       "    <tr>\n",
       "      <th>2</th>\n",
       "      <td>SibSp</td>\n",
       "      <td>1.495838</td>\n",
       "    </tr>\n",
       "    <tr>\n",
       "      <th>3</th>\n",
       "      <td>Parch</td>\n",
       "      <td>1.458687</td>\n",
       "    </tr>\n",
       "    <tr>\n",
       "      <th>4</th>\n",
       "      <td>Fare</td>\n",
       "      <td>1.765859</td>\n",
       "    </tr>\n",
       "    <tr>\n",
       "      <th>5</th>\n",
       "      <td>is_male</td>\n",
       "      <td>2.966084</td>\n",
       "    </tr>\n",
       "  </tbody>\n",
       "</table>\n",
       "</div>"
      ],
      "text/plain": [
       "  features       VIF\n",
       "0   Pclass  4.250485\n",
       "1      Age  4.144098\n",
       "2    SibSp  1.495838\n",
       "3    Parch  1.458687\n",
       "4     Fare  1.765859\n",
       "5  is_male  2.966084"
      ]
     },
     "execution_count": 259,
     "metadata": {},
     "output_type": "execute_result"
    }
   ],
   "source": [
    "vifdf = combined[['Pclass', 'Age', 'SibSp', 'Parch', 'Fare', 'is_male']]     \n",
    "\n",
    "vif_scores = pd.DataFrame()\n",
    "vif_scores[\"features\"] = vifdf.columns\n",
    "\n",
    "vif_scores[\"VIF\"] = [variance_inflation_factor(vifdf.values, x) for x in range(len(vifdf.columns))]\n",
    "\n",
    "vif_scores"
   ]
  },
  {
   "cell_type": "markdown",
   "id": "d8268c84",
   "metadata": {},
   "source": [
    "Luckily, there are no features with a VIF over 5, so there isn't any strong multicolinearity within our data. \n",
    "I can proceed without this worry in mind. "
   ]
  },
  {
   "cell_type": "markdown",
   "id": "67bd4571",
   "metadata": {},
   "source": [
    "#### Analyis of Fare\n",
    "Since the only numerical variable that has much of a correlation with survival is the cost payed for a ticket, I will solely focus on this variable during this part of the analysis.  "
   ]
  },
  {
   "cell_type": "code",
   "execution_count": 260,
   "id": "f875c8f7",
   "metadata": {},
   "outputs": [
    {
     "data": {
      "text/plain": [
       "count    1299.000000\n",
       "mean       32.555112\n",
       "std        50.677613\n",
       "min         0.000000\n",
       "25%         7.895800\n",
       "50%        14.454200\n",
       "75%        30.597900\n",
       "max       512.329200\n",
       "Name: Fare, dtype: float64"
      ]
     },
     "execution_count": 260,
     "metadata": {},
     "output_type": "execute_result"
    }
   ],
   "source": [
    "combined[\"Fare\"].describe()"
   ]
  },
  {
   "cell_type": "markdown",
   "id": "4a3ab4a1",
   "metadata": {},
   "source": [
    "Again, the descriptive statistics above indicate heavy skewness in the data."
   ]
  },
  {
   "cell_type": "code",
   "execution_count": 261,
   "id": "7440e155",
   "metadata": {},
   "outputs": [
    {
     "data": {
      "text/plain": [
       "0    8.05\n",
       "dtype: float64"
      ]
     },
     "execution_count": 261,
     "metadata": {},
     "output_type": "execute_result"
    }
   ],
   "source": [
    "combined[\"Fare\"].mode()"
   ]
  },
  {
   "cell_type": "code",
   "execution_count": 262,
   "id": "fb463cfa",
   "metadata": {},
   "outputs": [
    {
     "data": {
      "text/plain": [
       "60"
      ]
     },
     "execution_count": 262,
     "metadata": {},
     "output_type": "execute_result"
    }
   ],
   "source": [
    "fare_mode = combined[combined[\"Fare\"] == 8.05]\n",
    "fare_count = fare_mode[\"Fare\"].count()\n",
    "\n",
    "fare_count"
   ]
  },
  {
   "cell_type": "markdown",
   "id": "515f647a",
   "metadata": {},
   "source": [
    "The ticket value of \\\\$8.05 appeared most in the dataset, though only 60 of the 1299 passengers paid this amount."
   ]
  },
  {
   "cell_type": "code",
   "execution_count": 263,
   "id": "843fd6d6",
   "metadata": {},
   "outputs": [
    {
     "data": {
      "text/plain": [
       "14.4542"
      ]
     },
     "execution_count": 263,
     "metadata": {},
     "output_type": "execute_result"
    }
   ],
   "source": [
    "combined[\"Fare\"].median()"
   ]
  },
  {
   "cell_type": "markdown",
   "id": "1049fda4",
   "metadata": {},
   "source": [
    "The exact middle ticket value of the dataset was \\\\$14.45"
   ]
  },
  {
   "cell_type": "code",
   "execution_count": 264,
   "id": "8dedba0b",
   "metadata": {},
   "outputs": [
    {
     "data": {
      "text/plain": [
       "<AxesSubplot:xlabel='Fare'>"
      ]
     },
     "execution_count": 264,
     "metadata": {},
     "output_type": "execute_result"
    },
    {
     "data": {
      "image/png": "[encoded data removed]",
      "text/plain": [
       "<Figure size 432x288 with 1 Axes>"
      ]
     },
     "metadata": {
      "needs_background": "light"
     },
     "output_type": "display_data"
    }
   ],
   "source": [
    "sns.boxplot(combined['Fare'])"
   ]
  },
  {
   "cell_type": "code",
   "execution_count": 265,
   "id": "cf4e7b7b",
   "metadata": {},
   "outputs": [
    {
     "data": {
      "text/plain": [
       "<matplotlib.legend.Legend at 0x15a729e61f0>"
      ]
     },
     "execution_count": 265,
     "metadata": {},
     "output_type": "execute_result"
    },
    {
     "data": {
      "image/png": "[encoded data removed]",
      "text/plain": [
       "<Figure size 432x288 with 1 Axes>"
      ]
     },
     "metadata": {
      "needs_background": "light"
     },
     "output_type": "display_data"
    }
   ],
   "source": [
    "sns.distplot(combined['Fare'], label = 'Skew: {skew:.2f}'.format(skew = combined['Fare'].skew()))\n",
    "plt.title(\"Fare Distribution\")\n",
    "plt.ylabel('Passenger Fare Distribution')\n",
    "plt.legend()"
   ]
  },
  {
   "cell_type": "markdown",
   "id": "c9930346",
   "metadata": {},
   "source": [
    "Shown above is the distribution of passenger fare. As suspected, both the distribution plot and box plot show that the data is strongly skewed right. This data will need to be tranformed before training the different machine learning models as it can impact the accuracy of predictions. I will apply log tranformation to fix this issue. \n"
   ]
  },
  {
   "cell_type": "code",
   "execution_count": 266,
   "id": "d40bcfc2",
   "metadata": {},
   "outputs": [],
   "source": [
    "#Log tranformation to fix skewness\n",
    "combined[\"Fare\"] = combined[\"Fare\"].map(lambda fare: np.log(fare) if fare > 0 else 0)"
   ]
  },
  {
   "cell_type": "code",
   "execution_count": 267,
   "id": "354dcf9f",
   "metadata": {},
   "outputs": [
    {
     "data": {
      "text/plain": [
       "<matplotlib.legend.Legend at 0x15a72a89ee0>"
      ]
     },
     "execution_count": 267,
     "metadata": {},
     "output_type": "execute_result"
    },
    {
     "data": {
      "image/png": "[encoded data removed]",
      "text/plain": [
       "<Figure size 432x288 with 1 Axes>"
      ]
     },
     "metadata": {
      "needs_background": "light"
     },
     "output_type": "display_data"
    }
   ],
   "source": [
    "sns.distplot(combined['Fare'], label = 'Skew: {skew:.2f}'.format(skew = combined['Fare'].skew()))\n",
    "plt.title(\"Fare Distribution\")\n",
    "plt.ylabel('Passenger Fare Distribution')\n",
    "plt.legend()"
   ]
  }
 ],
 "metadata": {
  "kernelspec": {
   "display_name": "Python 3",
   "language": "python",
   "name": "python3"
  },
  "language_info": {
   "codemirror_mode": {
    "name": "ipython",
    "version": 3
   },
   "file_extension": ".py",
   "mimetype": "text/x-python",
   "name": "python",
   "nbconvert_exporter": "python",
   "pygments_lexer": "ipython3",
   "version": "3.8.8"
  }
 },
 "nbformat": 4,
 "nbformat_minor": 5
}
